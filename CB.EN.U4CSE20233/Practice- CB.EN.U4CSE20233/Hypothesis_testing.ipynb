{
  "nbformat": 4,
  "nbformat_minor": 0,
  "metadata": {
    "colab": {
      "provenance": []
    },
    "kernelspec": {
      "name": "python3",
      "display_name": "Python 3"
    },
    "language_info": {
      "name": "python"
    }
  },
  "cells": [
    {
      "cell_type": "markdown",
      "source": [
        "Most recent data shows that the average length of a Netflix video is 11.7 minutes, considering all Netflix categories with a standard deviation of 13\n",
        "minutes. A random sample of 100 Netflix videos belonging to different categories were taken and the average video length of the sampled videos was found to be 9.2 minutes. Are videos now shorter than they were before? Conduct a hypothesis test to evaluate the null and alternative hypothesis. Take significance level α = 0.05."
      ],
      "metadata": {
        "id": "xjyq1XQBjwlH"
      }
    },
    {
      "cell_type": "markdown",
      "source": [
        "Null Hypothesis : Average length of YouTube videos is more than or equal to 11.7 minutes. \n",
        "\n",
        "Alternative Hypothesis : Average length of YouTube videos is less than 11.7 minutes.\n",
        "\n",
        "\n",
        "A lower-tailed test should be conducted as part of the hypothesis test."
      ],
      "metadata": {
        "id": "Tg2cwxdukCD3"
      }
    },
    {
      "cell_type": "code",
      "source": [
        "import scipy.stats as st\n",
        "import numpy as np"
      ],
      "metadata": {
        "id": "JnVV7SW7kAwh"
      },
      "execution_count": 1,
      "outputs": []
    },
    {
      "cell_type": "code",
      "source": [
        "mu = 11.7\n",
        "x_bar = 9.2\n",
        "sigma = 13\n",
        "n = 100\n",
        "alpha = 0.05"
      ],
      "metadata": {
        "id": "go1XtSclkJbL"
      },
      "execution_count": 2,
      "outputs": []
    },
    {
      "cell_type": "code",
      "source": [
        "z_critical = st.norm.ppf(alpha)\n",
        "print(f'z-critical value is {z_critical}')"
      ],
      "metadata": {
        "colab": {
          "base_uri": "https://localhost:8080/"
        },
        "id": "dKtl6L92kLMG",
        "outputId": "8a3920a9-ccfe-47f7-faa8-92eab73b00c2"
      },
      "execution_count": 3,
      "outputs": [
        {
          "output_type": "stream",
          "name": "stdout",
          "text": [
            "z-critical value is -1.6448536269514729\n"
          ]
        }
      ]
    },
    {
      "cell_type": "code",
      "source": [
        "z = (x_bar - mu)/(sigma/np.sqrt(n))\n",
        "print(f'Test statistic is {z}')"
      ],
      "metadata": {
        "colab": {
          "base_uri": "https://localhost:8080/"
        },
        "id": "BLyc3UYckMrz",
        "outputId": "48d56d25-7410-4554-9d87-d6d5dd2f2163"
      },
      "execution_count": 4,
      "outputs": [
        {
          "output_type": "stream",
          "name": "stdout",
          "text": [
            "Test statistic is -1.923076923076923\n"
          ]
        }
      ]
    },
    {
      "cell_type": "code",
      "source": [
        "if z < z_critical:\n",
        "  print(\"Reject the null hypothesis.\")\n",
        "else:\n",
        "  print(\"Fail to reject the null hypothesis.\")"
      ],
      "metadata": {
        "colab": {
          "base_uri": "https://localhost:8080/"
        },
        "id": "JTp5BiF5khQt",
        "outputId": "2b8fd5aa-c431-404e-d849-3103b45150dc"
      },
      "execution_count": 7,
      "outputs": [
        {
          "output_type": "stream",
          "name": "stdout",
          "text": [
            "Reject the null hypothesis.\n"
          ]
        }
      ]
    },
    {
      "cell_type": "markdown",
      "source": [
        "The calculated z-score value is in the critical region and so we reject the null hypothesis that the average video length on YouTube is greater than or equal to 11.7 minutes."
      ],
      "metadata": {
        "id": "qkzgQnOjkXT-"
      }
    }
  ]
}